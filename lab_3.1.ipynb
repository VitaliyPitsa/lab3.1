{
 "cells": [
  {
   "cell_type": "markdown",
   "metadata": {},
   "source": [
    "# Лабораторная работа 3.1"
   ]
  },
  {
   "cell_type": "markdown",
   "metadata": {},
   "source": [
    "## Счастливый билетик\n",
    "\n",
    "![](http://f2.mylove.ru/UNiHT7dRJ4.jpg)\n",
    "\n",
    "Билет считается счастливым, если выполнено следующее условие: сумма первых трёх цифр номера равна сумме последних трёх цифр.\n",
    "\n",
    "**Задание:**\n",
    "\n",
    "1) Определите число `ticket_number` — шестизначный номер билета;\n",
    "\n",
    "2) Напишите код, который по шестизначному номеру `ticket_number` билетика проверяет, является ли он счастливым;\n",
    "\n",
    "3) Если номер счастливый, выведите строку `Yes`, иначе — `No`.\n",
    "\n",
    "---\n",
    "\n",
    "**Пример 1:**\n",
    "\n",
    "*Input:* 123456\n",
    "\n",
    "*Output:* No\n",
    "\n",
    "\n",
    "**Пример 2:**\n",
    "\n",
    "*Input:* 123042\n",
    "\n",
    "*Output:* Yes"
   ]
  },
  {
   "cell_type": "code",
   "execution_count": 9,
   "metadata": {
    "ExecuteTime": {
     "end_time": "2023-04-28T09:02:36.055041Z",
     "start_time": "2023-04-28T09:02:27.763180Z"
    }
   },
   "outputs": [
    {
     "name": "stdout",
     "output_type": "stream",
     "text": [
      "123321\n"
     ]
    }
   ],
   "source": [
    "ticket_number = [int(i) for i in input()] "
   ]
  },
  {
   "cell_type": "code",
   "execution_count": 10,
   "metadata": {
    "ExecuteTime": {
     "end_time": "2023-04-28T09:02:38.735117Z",
     "start_time": "2023-04-28T09:02:38.730131Z"
    }
   },
   "outputs": [
    {
     "name": "stdout",
     "output_type": "stream",
     "text": [
      "yes\n"
     ]
    }
   ],
   "source": [
    "if sum(ticket_number[:3]) == sum(ticket_number[3:]):\n",
    "    print(\"yes\")\n",
    "else:\n",
    "    print(\"no\")"
   ]
  },
  {
   "cell_type": "markdown",
   "metadata": {},
   "source": [
    "## Пароль\n",
    "\n",
    "![](http://forum.ixbt.com/post.cgi?id=attach:77:14138:1341:1)\n",
    "\n",
    "Пусть пароль может содержать только латинские буквы, знаки препинания и цифры.\n",
    "\n",
    "Пароль считается надёжным, если удовлетворяет следующим условиям:\n",
    "- содержит буквы в разных регистрах;\n",
    "- содержит цифры;\n",
    "- содержит не менее `4` уникальных символов;\n",
    "- не содержит ваше имя латинницей, записанное буквами любых регистров (anna, iVan, ...).\n",
    "\n",
    "Иначе пароль считается слабым.\n",
    "\n",
    "**Задание:**\n",
    "\n",
    "1) Определите строку `password` — придуманный вами пароль;\n",
    "\n",
    "2) Напишите код, который по паролю `password` проверяет, является ли он надёжным;\n",
    "\n",
    "3) Если пароль надёжный, выведите строку `strong`, иначе — `weak`.\n",
    "\n",
    "\n",
    "---\n",
    "\n",
    "Пусть имя пользоватея -- Андрей.\n",
    "\n",
    "**Пример 1:**\n",
    "\n",
    "*Input:* Aandrei123\n",
    "\n",
    "*Output:* weak\n",
    "\n",
    "\n",
    "**Пример 2:**\n",
    "\n",
    "*Input:* an12dRei\n",
    "\n",
    "*Output:* strong"
   ]
  },
  {
   "cell_type": "code",
   "execution_count": null,
   "metadata": {
    "collapsed": true
   },
   "outputs": [],
   "source": [
    "name = input(\"enter your name: \")\n",
    "password = input(\"enter the password: \")"
   ]
  },
  {
   "cell_type": "code",
   "execution_count": null,
   "metadata": {
    "collapsed": true
   },
   "outputs": [],
   "source": [
    "unic = set(password)\n",
    "if password.isalpha() or password.isdigit():\n",
    "    print(\"weak\")\n",
    "    exit(-1)\n",
    "if password.isupper() or password.islower():\n",
    "    print(\"weak\")\n",
    "    exit(-1)\n",
    "\n",
    "if name.lower() in password.lower():\n",
    "    print(\"weak\")\n",
    "    exit(-1)\n",
    "if len(unic) < 4:\n",
    "    print(\"weak\")\n",
    "    exit(-1)  \n",
    "else:\n",
    "    print(\"strong\")"
   ]
  },
  {
   "cell_type": "markdown",
   "metadata": {},
   "source": [
    "## Числа Фибоначчи\n",
    "Как известно, [числа Фибоначчи](https://ru.wikipedia.org/wiki/%D0%A7%D0%B8%D1%81%D0%BB%D0%B0_%D0%A4%D0%B8%D0%B1%D0%BE%D0%BD%D0%B0%D1%87%D1%87%D0%B8) — это последовательность чисел, каждое из которых равно сумме двух предыдущих (первые два числа равны $1$):\n",
    "$$\n",
    "    1, 1, 2, 3, 5, 8, 13, \\ldots\n",
    "$$\n",
    "\n",
    "**Задание:**\n",
    "\n",
    "1) Определите число `amount` — количество чисел Фибоначчи, которые надо вывести;\n",
    "\n",
    "2) Напишите код, который выводит первые `amount` чисел Фибоначчи.\n",
    "\n",
    "---\n",
    "\n",
    "**Пример 1:**\n",
    "\n",
    "*Input:* 3\n",
    "\n",
    "*Output:* 1 1 2\n",
    "\n",
    "\n",
    "**Пример 2:**\n",
    "\n",
    "*Input:* 10\n",
    "\n",
    "*Output:* 1 1 2 3 5 8 13 21 34 55\n"
   ]
  },
  {
   "cell_type": "code",
   "execution_count": 15,
   "metadata": {
    "ExecuteTime": {
     "end_time": "2023-05-04T21:21:12.506324Z",
     "start_time": "2023-05-04T21:21:08.366752Z"
    }
   },
   "outputs": [
    {
     "name": "stdout",
     "output_type": "stream",
     "text": [
      "25\n"
     ]
    }
   ],
   "source": [
    "amount = int(input())"
   ]
  },
  {
   "cell_type": "code",
   "execution_count": 12,
   "metadata": {
    "ExecuteTime": {
     "end_time": "2023-05-04T21:20:45.004200Z",
     "start_time": "2023-05-04T21:20:44.997325Z"
    }
   },
   "outputs": [],
   "source": [
    "import math"
   ]
  },
  {
   "cell_type": "code",
   "execution_count": 13,
   "metadata": {
    "ExecuteTime": {
     "end_time": "2023-05-04T21:20:56.248119Z",
     "start_time": "2023-05-04T21:20:56.237492Z"
    }
   },
   "outputs": [],
   "source": [
    "def fibonacci(amount):\n",
    "    phi = (1 + math.sqrt(5)) / 2\n",
    "    fib_list = [(phi**n - (1-phi)**n) / math.sqrt(5) for n in range(amount)]\n",
    "    return fib_list"
   ]
  },
  {
   "cell_type": "code",
   "execution_count": 16,
   "metadata": {
    "ExecuteTime": {
     "end_time": "2023-05-04T21:21:15.790321Z",
     "start_time": "2023-05-04T21:21:15.770274Z"
    }
   },
   "outputs": [
    {
     "name": "stdout",
     "output_type": "stream",
     "text": [
      "0 1 1 2 3 5 8 13 21 34 55 89 144 233 377 610 987 1597 2584 4181 6765 10946 17711 28657 46368\n"
     ]
    }
   ],
   "source": [
    "fib_list = fibonacci(amount)\n",
    "fib_str = ' '.join(str(int(fib)) for fib in fib_list)\n",
    "print(fib_str)"
   ]
  },
  {
   "cell_type": "markdown",
   "metadata": {},
   "source": [
    "## Время исследований\n",
    "\n",
    "![](https://2.bp.blogspot.com/-VOT5x12UqPY/WSh53tQ94HI/AAAAAAAAAMY/-nlcz28_Fj4UzJjbn4bBINKCnzwag1W4QCLcB/s1600/my-pic-widget.jpg)\n",
    "\n",
    "На сайте https://www.kaggle.com/ выберите любой набор данных в формате CSV и проведите для него маленькое исследование: загрузите данные из набора с использованием стандартного модуля `csv`, посмотрите средние значения и стандартные отклонения двух выбранных числовых атрибутов, найдите [методом наименьших квадратов](https://ru.wikipedia.org/wiki/%D0%9C%D0%B5%D1%82%D0%BE%D0%B4_%D0%BD%D0%B0%D0%B8%D0%BC%D0%B5%D0%BD%D1%8C%D1%88%D0%B8%D1%85_%D0%BA%D0%B2%D0%B0%D0%B4%D1%80%D0%B0%D1%82%D0%BE%D0%B2) уравнение линейной зависимости, связывающей один числовой атрибут с другим. Для оценки заданной зависимости найдите [коэффициент парной корреляции](https://ru.wikipedia.org/wiki/%D0%9A%D0%BE%D1%80%D1%80%D0%B5%D0%BB%D1%8F%D1%86%D0%B8%D1%8F), сделайте соответствующие выводы.\n",
    "\n",
    "**Результаты надо обязательно прокомментировать и пояснить!**\n",
    "\n",
    "---\n",
    "\n",
    "**Пример 1:**\n",
    "\n",
    "Пусть таблица `bikes.csv` содержит данные по арендам велосипедов за $2$ года:\n",
    "- `datetime`: дата и время аренды\n",
    "- `season`: время года\n",
    "- `temp`: температура воздуха по Цельсию\n",
    "- `windspeed`: скорость ветра \n",
    "- `registered`: число аренд\n",
    "\n",
    "Одно из направлений исследования могло бы заключаться в проверке зависимости суммарного числа аренд от температуры воздуха."
   ]
  },
  {
   "cell_type": "markdown",
   "metadata": {},
   "source": [
    "*в такой ячейке (режим Markdown) можно писать текст*"
   ]
  },
  {
   "cell_type": "code",
   "execution_count": 35,
   "metadata": {
    "ExecuteTime": {
     "end_time": "2023-05-04T21:35:27.812505Z",
     "start_time": "2023-05-04T21:35:27.793488Z"
    }
   },
   "outputs": [],
   "source": [
    "import csv\n",
    "from math import sqrt\n",
    "\n",
    "\n",
    "with open('NetflixOriginals.csv', 'r', newline='') as csvfile:\n",
    "    data = csv.reader(csvfile, delimiter=',')\n",
    "    runtime = []\n",
    "    rating = []\n",
    "    for row in data:\n",
    "        if row[1] == \"Comedy\":\n",
    "            runtime.append(float(row[3]))\n",
    "            rating.append(float(row[4]))"
   ]
  },
  {
   "cell_type": "code",
   "execution_count": 36,
   "metadata": {
    "ExecuteTime": {
     "end_time": "2023-05-04T21:35:38.641151Z",
     "start_time": "2023-05-04T21:35:38.626020Z"
    }
   },
   "outputs": [
    {
     "name": "stdout",
     "output_type": "stream",
     "text": [
      "Средняя длительность: 95.653 минут\n",
      "Средний рейтинг: 5.506\n"
     ]
    }
   ],
   "source": [
    "sr_runtime = sum(runtime) / len(runtime) \n",
    "sr_rating = sum(rating) / len(rating) \n",
    "print(f\"Средняя длительность: {sr_runtime:.3f} минут\")\n",
    "print(f\"Средний рейтинг: {sr_rating:.3f}\")"
   ]
  },
  {
   "cell_type": "code",
   "execution_count": 37,
   "metadata": {
    "ExecuteTime": {
     "end_time": "2023-05-04T21:35:48.175986Z",
     "start_time": "2023-05-04T21:35:48.154441Z"
    }
   },
   "outputs": [
    {
     "name": "stdout",
     "output_type": "stream",
     "text": [
      "Стандартное отклонение коэффициента длительности: 17.07\n",
      "Стандартное отклонение оценки: 0.78\n"
     ]
    }
   ],
   "source": [
    "std1 = sqrt(sum((elem-sr_runtime)**2 for elem in runtime) / len(runtime))\n",
    "std2 = sqrt(sum((elem-sr_rating)**2 for elem in rating) / len(rating))\n",
    "print(\"Стандартное отклонение коэффициента длительности: \"\n",
    "     f\"{std1:.2f}\")\n",
    "print(\"Стандартное отклонение оценки: \"\n",
    "     f\"{std2:.2f}\")"
   ]
  },
  {
   "cell_type": "code",
   "execution_count": 38,
   "metadata": {
    "ExecuteTime": {
     "end_time": "2023-05-04T21:35:59.773243Z",
     "start_time": "2023-05-04T21:35:59.684689Z"
    }
   },
   "outputs": [
    {
     "name": "stdout",
     "output_type": "stream",
     "text": [
      "Уравнение линейной зависимости: y = -0.0029472532120161776x + 5.788036240912649\n",
      "Значения функции на кривой методом наименьших квадратов: \n",
      "5.777131404028189\n",
      "5.775952502743382\n",
      "5.775363052100979\n",
      "5.7750683267797775\n",
      "5.774773601458576\n",
      "5.774773601458576\n",
      "5.774478876137374\n",
      "5.774478876137374\n",
      "5.774478876137374\n",
      "5.773889425494971\n",
      "5.773889425494971\n",
      "5.773299974852568\n",
      "5.772710524210165\n",
      "5.772710524210165\n",
      "5.772710524210165\n",
      "5.772710524210165\n",
      "5.772710524210165\n",
      "5.772710524210165\n",
      "5.772710524210165\n",
      "5.772710524210165\n",
      "5.7724157988889635\n",
      "5.772121073567762\n",
      "5.772121073567762\n",
      "5.7718263482465595\n",
      "5.7718263482465595\n",
      "5.7718263482465595\n",
      "5.7718263482465595\n",
      "5.7718263482465595\n",
      "5.771531622925358\n",
      "5.771531622925358\n",
      "5.771236897604156\n",
      "5.771236897604156\n",
      "5.771236897604156\n",
      "5.770942172282955\n",
      "5.770942172282955\n",
      "5.77005799631935\n",
      "5.77005799631935\n",
      "5.77005799631935\n",
      "5.769763270998149\n",
      "5.769763270998149\n",
      "5.769468545676947\n",
      "5.769468545676947\n",
      "5.768879095034544\n",
      "5.768879095034544\n",
      "5.768289644392141\n",
      "5.767994919070939\n",
      "5.767994919070939\n",
      "5.767405468428536\n",
      "5.766816017786132\n"
     ]
    }
   ],
   "source": [
    "sum_ab = 0\n",
    "sum_square = 0\n",
    "for idx, elem in enumerate(runtime):\n",
    "    sum_ab += elem * rating[idx]\n",
    "    sum_square += elem**2\n",
    "k_lin = (len(runtime) * sum_ab - sum(runtime) * sum(rating))/(len(runtime) * sum_square - sum(runtime)**2)\n",
    "b_lin = sr_rating - sr_runtime * k_lin\n",
    "func_val = []\n",
    "for elem in rating:\n",
    "    func_val.append(k_lin * elem + b_lin)\n",
    "print(f\"Уравнение линейной зависимости: y = {k_lin}x + {b_lin}\")\n",
    "print(\"Значения функции на кривой методом наименьших квадратов: \")\n",
    "for val in func_val:\n",
    "    print(val)"
   ]
  },
  {
   "cell_type": "code",
   "execution_count": 39,
   "metadata": {
    "ExecuteTime": {
     "end_time": "2023-05-04T21:36:21.618553Z",
     "start_time": "2023-05-04T21:36:21.604750Z"
    }
   },
   "outputs": [
    {
     "name": "stdout",
     "output_type": "stream",
     "text": [
      "Коэффициент парной корреляции: -0.0029472532120159126\n"
     ]
    }
   ],
   "source": [
    "razn = 0\n",
    "for idx, elem in enumerate(rating):\n",
    "    razn += (elem-sr_rating)*(runtime[idx] - sr_runtime)\n",
    "razn_sr_rating = sum((elem-sr_rating)**2 for elem in rating)\n",
    "razn_sr_runtime = sum((elem-sr_runtime)**2 for elem in runtime)\n",
    "mark_kor = razn / sqrt(razn_sr_runtime*razn_sr_runtime)\n",
    "print(f\"Коэффициент парной корреляции: {mark_kor}\")"
   ]
  },
  {
   "cell_type": "code",
   "execution_count": null,
   "metadata": {},
   "outputs": [],
   "source": []
  }
 ],
 "metadata": {
  "anaconda-cloud": {},
  "kernelspec": {
   "display_name": "Python 3",
   "language": "python",
   "name": "python3"
  },
  "language_info": {
   "codemirror_mode": {
    "name": "ipython",
    "version": 3
   },
   "file_extension": ".py",
   "mimetype": "text/x-python",
   "name": "python",
   "nbconvert_exporter": "python",
   "pygments_lexer": "ipython3",
   "version": "3.8.8"
  }
 },
 "nbformat": 4,
 "nbformat_minor": 1
}
